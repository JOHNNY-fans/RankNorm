{
 "cells": [
  {
   "cell_type": "code",
   "execution_count": 1,
   "metadata": {},
   "outputs": [
    {
     "name": "stderr",
     "output_type": "stream",
     "text": [
      "/Users/yongqifan/miniconda3/envs/llm/lib/python3.11/site-packages/tqdm/auto.py:21: TqdmWarning: IProgress not found. Please update jupyter and ipywidgets. See https://ipywidgets.readthedocs.io/en/stable/user_install.html\n",
      "  from .autonotebook import tqdm as notebook_tqdm\n"
     ]
    }
   ],
   "source": [
    "from tqdm.auto import tqdm\n",
    "import pandas as pd\n",
    "import numpy as np"
   ]
  },
  {
   "cell_type": "code",
   "execution_count": null,
   "metadata": {},
   "outputs": [],
   "source": [
    "with open('../data/UMLS/2017AB/2017AB/META/MRCONSO.RRF','r') as f:\n",
    "    L = f.readlines()"
   ]
  },
  {
   "cell_type": "code",
   "execution_count": 3,
   "metadata": {},
   "outputs": [],
   "source": [
    "con_2017AB = [i.strip() for i in L]"
   ]
  },
  {
   "cell_type": "code",
   "execution_count": 5,
   "metadata": {},
   "outputs": [],
   "source": [
    "meddra_2017 = [i for i in con_2017AB if i.split('|')[1]=='ENG' and 'MDR' in i.split('|')[11] and i.split('|')[12]=='PT']"
   ]
  },
  {
   "cell_type": "code",
   "execution_count": 7,
   "metadata": {},
   "outputs": [],
   "source": [
    "meddra_pt_2017 = [i.split('|')[13]+'##'+i.split('|')[14] for i in con_2017AB if i.split('|')[1]=='ENG' and 'MDR'== i.split('|')[11] and i.split('|')[12]=='PT']"
   ]
  },
  {
   "cell_type": "code",
   "execution_count": 9,
   "metadata": {},
   "outputs": [],
   "source": [
    "con_2017AB = [i.strip().split('|') for i in tqdm(L) if '|ENG|' in i]"
   ]
  },
  {
   "cell_type": "code",
   "execution_count": 11,
   "metadata": {},
   "outputs": [],
   "source": [
    "meddra_pt_2017_name =  [i[14] for i in con_2017AB if i[1]=='ENG' and 'MDR'== i[11] and i[12]=='PT']"
   ]
  },
  {
   "cell_type": "code",
   "execution_count": 12,
   "metadata": {},
   "outputs": [],
   "source": [
    "meddra_pt_2017_code =  [i[13] for i in con_2017AB if i[1]=='ENG' and 'MDR'== i[11] and i[12]=='PT']\n"
   ]
  },
  {
   "cell_type": "code",
   "execution_count": 13,
   "metadata": {},
   "outputs": [
    {
     "data": {
      "text/plain": [
       "22499"
      ]
     },
     "execution_count": 13,
     "metadata": {},
     "output_type": "execute_result"
    }
   ],
   "source": [
    "len(meddra_pt_2017_code)"
   ]
  },
  {
   "cell_type": "code",
   "execution_count": 14,
   "metadata": {},
   "outputs": [],
   "source": [
    "meddra_dict = {}\n",
    "for i in meddra_pt_2017:\n",
    "    item = i.split('##')\n",
    "    meddra_dict[item[0]] = item[1]"
   ]
  },
  {
   "cell_type": "code",
   "execution_count": null,
   "metadata": {},
   "outputs": [],
   "source": [
    "import json\n",
    "with open('../data/SMM4H-17/smm4h_normalized_set.json','r',encoding='utf-8') as f:\n",
    "    smm4h_normalized_set = json.load(f)"
   ]
  },
  {
   "cell_type": "code",
   "execution_count": 17,
   "metadata": {},
   "outputs": [],
   "source": [
    "code2ptcode = {}\n",
    "\n",
    "code2ptcode['10014698'] = '10014695'\n",
    "code2ptcode['10007541'] = '10061024'\n",
    "code2ptcode['10012259'] = '10012239'\n",
    "code2ptcode['10000497'] = '10000496'\n",
    "code2ptcode['10040991'] = '10040984'\n",
    "code2ptcode['10044027'] = '10012318'"
   ]
  },
  {
   "cell_type": "code",
   "execution_count": null,
   "metadata": {},
   "outputs": [],
   "source": [
    "smm4h_code = []\n",
    "\n",
    "for num in range(4):\n",
    "    with open('../data/SMM4H-17/task_3_normalization_training'+str(num+1)+'.txt') as f:\n",
    "        L = f.readlines()\n",
    "        for i in L:\n",
    "            item = i.strip().split('\\t')\n",
    "            if item[-1] in code2ptcode:\n",
    "                smm4h_code.append(code2ptcode[item[-1]])\n",
    "            else:\n",
    "                smm4h_code.append(item[-1])\n",
    "\n",
    "with open('../data/SMM4H-17/task_3_normalization_evaluation.txt') as f:\n",
    "    L = f.readlines()\n",
    "    for i in L:\n",
    "        item = i.strip().split('\\t')\n",
    "        if item[-1] in code2ptcode:\n",
    "            smm4h_code.append(code2ptcode[item[-1]])\n",
    "        else:\n",
    "            smm4h_code.append(item[-1])\n",
    "\n",
    "smm4h_code= list(set(smm4h_code))"
   ]
  },
  {
   "cell_type": "code",
   "execution_count": 19,
   "metadata": {},
   "outputs": [
    {
     "data": {
      "text/plain": [
       "509"
      ]
     },
     "execution_count": 19,
     "metadata": {},
     "output_type": "execute_result"
    }
   ],
   "source": [
    "len(smm4h_code)"
   ]
  },
  {
   "cell_type": "code",
   "execution_count": 20,
   "metadata": {},
   "outputs": [
    {
     "data": {
      "text/plain": [
       "4"
      ]
     },
     "execution_count": 20,
     "metadata": {},
     "output_type": "execute_result"
    }
   ],
   "source": [
    "len([i for i in smm4h_code if i not in meddra_pt_2017_code])"
   ]
  },
  {
   "cell_type": "code",
   "execution_count": 21,
   "metadata": {},
   "outputs": [
    {
     "data": {
      "text/plain": [
       "4"
      ]
     },
     "execution_count": 21,
     "metadata": {},
     "output_type": "execute_result"
    }
   ],
   "source": [
    "oov_code = [i for i in smm4h_code if i not in meddra_pt_2017_code]\n",
    "len(oov_code)"
   ]
  },
  {
   "cell_type": "code",
   "execution_count": 22,
   "metadata": {},
   "outputs": [
    {
     "data": {
      "text/plain": [
       "['10013663', '10024130', 'MEDDRA PT', '10027433']"
      ]
     },
     "execution_count": 22,
     "metadata": {},
     "output_type": "execute_result"
    }
   ],
   "source": [
    "oov_code"
   ]
  },
  {
   "cell_type": "code",
   "execution_count": 25,
   "metadata": {},
   "outputs": [
    {
     "data": {
      "text/plain": [
       "['C0023222|ENG|S|L0023222|PF|S0675616|Y|A25743967|||10033425|MDR|LLT|10024130|Leg pain|3|N|256|',\n",
       " 'C0851358|ENG|P|L1378196|PF|S1635896|N|A1595997|||10027433|MDR|OS|10027433|Metabolism and nutrition disorders|3|N||',\n",
       " 'C0851358|ENG|S|L6331855|PF|S8789416|Y|A14224797|||10027433|MDR|AB|10027433|Metab|3|Y||',\n",
       " 'C1510472|ENG|P|L0013170|VC|S0368302|N|A27876856|||10079381|MDR|LLT|10013663|Drug dependence|3|N|256|']"
      ]
     },
     "execution_count": 25,
     "metadata": {},
     "output_type": "execute_result"
    }
   ],
   "source": [
    "['|'.join(i) for i in con_2017AB if i[13] in oov_code and i[1]=='ENG']"
   ]
  },
  {
   "cell_type": "code",
   "execution_count": 26,
   "metadata": {},
   "outputs": [],
   "source": [
    "meddra_dict['10024130'] = 'Leg pain'\n",
    "meddra_dict['10013663'] = 'Drug dependence'\n",
    "meddra_dict['10027433'] = 'Metabolism and nutrition disorders'\n",
    "meddra_dict['MEDDRA PT'] = 'MEDDRA PT'"
   ]
  },
  {
   "cell_type": "code",
   "execution_count": 28,
   "metadata": {},
   "outputs": [],
   "source": [
    "norm_set = list(set([meddra_dict[i] for i in list(meddra_dict)]))\n",
    "norm_set.sort()"
   ]
  },
  {
   "cell_type": "code",
   "execution_count": 29,
   "metadata": {},
   "outputs": [
    {
     "data": {
      "text/plain": [
       "22503"
      ]
     },
     "execution_count": 29,
     "metadata": {},
     "output_type": "execute_result"
    }
   ],
   "source": [
    "len(norm_set)"
   ]
  },
  {
   "cell_type": "code",
   "execution_count": null,
   "metadata": {},
   "outputs": [],
   "source": [
    "import json\n",
    "with open('../data/SMM4H-17/smm4h_normalized_set.json','w') as f:\n",
    "    json.dump(norm_set,f,ensure_ascii=False,indent=4)"
   ]
  },
  {
   "cell_type": "code",
   "execution_count": null,
   "metadata": {},
   "outputs": [],
   "source": [
    "with open('../data/SMM4H-17/smm4h_code2ptcode.json','w') as f:\n",
    "    json.dump(code2ptcode,f,ensure_ascii=False,indent=4)"
   ]
  },
  {
   "cell_type": "code",
   "execution_count": null,
   "metadata": {},
   "outputs": [],
   "source": [
    "with open('../data/SMM4H-17/smm4h_code2term.json','w') as f:\n",
    "    json.dump(meddra_dict,f,ensure_ascii=False,indent=4)"
   ]
  },
  {
   "cell_type": "code",
   "execution_count": null,
   "metadata": {},
   "outputs": [],
   "source": []
  },
  {
   "cell_type": "code",
   "execution_count": 35,
   "metadata": {},
   "outputs": [
    {
     "name": "stderr",
     "output_type": "stream",
     "text": [
      "100%|██████████| 9176008/9176008 [16:04<00:00, 9514.37it/s] \n"
     ]
    }
   ],
   "source": [
    "name2aid = {}\n",
    "aid2name = {}\n",
    "for i in tqdm(con_2017AB):\n",
    "    if i[14] in norm_set:\n",
    "        k = i[14]\n",
    "        v = i[7]\n",
    "        name2aid[k] = v\n",
    "        aid2name[v] = k   "
   ]
  },
  {
   "cell_type": "code",
   "execution_count": null,
   "metadata": {},
   "outputs": [],
   "source": [
    "with open('../data/UMLS/2023AB/META/MRDEF.RRF','r') as f:\n",
    "    L1 = f.readlines()"
   ]
  },
  {
   "cell_type": "code",
   "execution_count": 37,
   "metadata": {},
   "outputs": [],
   "source": [
    "denf = [i.strip().split('|') for i in L1]"
   ]
  },
  {
   "cell_type": "code",
   "execution_count": 38,
   "metadata": {},
   "outputs": [],
   "source": [
    "denf.sort()"
   ]
  },
  {
   "cell_type": "code",
   "execution_count": 39,
   "metadata": {},
   "outputs": [],
   "source": [
    "aid_set = list(aid2name)"
   ]
  },
  {
   "cell_type": "code",
   "execution_count": 45,
   "metadata": {},
   "outputs": [
    {
     "data": {
      "text/plain": [
       "['C0000039',\n",
       " 'A0016515',\n",
       " 'AT38152019',\n",
       " '',\n",
       " 'MSH',\n",
       " 'Synthetic phospholipid used in liposomes and lipid bilayers to study biological membranes. It is also a major constituent of PULMONARY SURFACTANTS.',\n",
       " 'N',\n",
       " '',\n",
       " '']"
      ]
     },
     "execution_count": 45,
     "metadata": {},
     "output_type": "execute_result"
    }
   ],
   "source": [
    "denf[0]"
   ]
  },
  {
   "cell_type": "code",
   "execution_count": 46,
   "metadata": {},
   "outputs": [
    {
     "name": "stderr",
     "output_type": "stream",
     "text": [
      "100%|██████████| 430839/430839 [09:33<00:00, 750.72it/s]\n"
     ]
    }
   ],
   "source": [
    "term2denf = {}\n",
    "for i in tqdm(denf):\n",
    "    if i[1] in aid_set:\n",
    "        term2denf[aid2name[i[1]]]=i[5]"
   ]
  },
  {
   "cell_type": "code",
   "execution_count": 47,
   "metadata": {},
   "outputs": [
    {
     "data": {
      "text/plain": [
       "2030"
      ]
     },
     "execution_count": 47,
     "metadata": {},
     "output_type": "execute_result"
    }
   ],
   "source": [
    "len(term2denf)"
   ]
  },
  {
   "cell_type": "code",
   "execution_count": null,
   "metadata": {},
   "outputs": [],
   "source": [
    "with open('../data/SMM4H-17/smm4h_umls_kc.json','w') as f:\n",
    "    json.dump(term2denf,f,ensure_ascii=False,indent=4)"
   ]
  }
 ],
 "metadata": {
  "kernelspec": {
   "display_name": "llm",
   "language": "python",
   "name": "python3"
  },
  "language_info": {
   "codemirror_mode": {
    "name": "ipython",
    "version": 3
   },
   "file_extension": ".py",
   "mimetype": "text/x-python",
   "name": "python",
   "nbconvert_exporter": "python",
   "pygments_lexer": "ipython3",
   "version": "3.11.5"
  }
 },
 "nbformat": 4,
 "nbformat_minor": 2
}
