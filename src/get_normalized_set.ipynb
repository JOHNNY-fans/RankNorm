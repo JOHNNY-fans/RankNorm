{
 "cells": [
  {
   "cell_type": "code",
   "execution_count": null,
   "metadata": {},
   "outputs": [
    {
     "name": "stderr",
     "output_type": "stream",
     "text": [
      "/mnt/data/smart_health_02/fanyongqi/anaconda3/envs/llm/lib/python3.9/site-packages/tqdm/auto.py:21: TqdmWarning: IProgress not found. Please update jupyter and ipywidgets. See https://ipywidgets.readthedocs.io/en/stable/user_install.html\n",
      "  from .autonotebook import tqdm as notebook_tqdm\n"
     ]
    }
   ],
   "source": [
    "import os\n",
    "from tqdm.auto import tqdm\n",
    "from tqdm import tqdm\n",
    "import json\n",
    "import math\n",
    "import pandas as pd\n",
    "import random"
   ]
  },
  {
   "cell_type": "code",
   "execution_count": null,
   "metadata": {},
   "outputs": [],
   "source": [
    "with open('../data/config/label_texts_dict_TwADR-L.txt','r',encoding='utf-8') as f:\n",
    "    L = json.load(f)\n",
    "TwADR_normalized_set = list(set([L[i] for i in L]))\n",
    "TwADR_normalized_set.sort()\n",
    "with open(\"../data/TwADR-L/TwADR_normalized_set.json\",'w',encoding='utf-8') as f:\n",
    "    json.dump(TwADR_normalized_set,f,ensure_ascii=False,indent=4)"
   ]
  },
  {
   "cell_type": "code",
   "execution_count": null,
   "metadata": {},
   "outputs": [],
   "source": [
    "code = []\n",
    "LL = []\n",
    "for num in range(10):\n",
    "    path = '../data/AskAPatient/AskAPatient.fold-'+str(num)+'.train.txt'\n",
    "    with open(path,'r',encoding='ISO-8859-1') as f:\n",
    "        L = f.readlines()\n",
    "    \n",
    "    for item in L:\n",
    "        i = item.strip().split('\\t')\n",
    "        LL.append(i[0]+i[1])\n",
    "        code.append(i[0])\n",
    "        if len(i)>3:\n",
    "            print(i)\n",
    "\n",
    "    path = '../data/AskAPatient/AskAPatient.fold-'+str(num)+'.validation.txt'\n",
    "    with open(path,'r',encoding='ISO-8859-1') as f:\n",
    "        L = f.readlines()\n",
    "    \n",
    "    for item in L:\n",
    "        i = item.strip().split('\\t')\n",
    "        LL.append(i[0]+i[1])\n",
    "        code.append(i[0])\n",
    "        if len(i)>3:\n",
    "            print(i)\n",
    "\n",
    "    path = '../data/AskAPatient/AskAPatient.fold-'+str(num)+'.test.txt'\n",
    "    with open(path,'r',encoding='ISO-8859-1') as f:\n",
    "        L = f.readlines()\n",
    "    \n",
    "    for item in L:\n",
    "        i = item.strip().split('\\t')\n",
    "        LL.append(i[0]+i[1])\n",
    "        code.append(i[0])\n",
    "        if len(i)>3:\n",
    "            print(i)\n",
    "code = list(set(code))\n",
    "LL = list(set(LL))\n",
    "LL.sort()"
   ]
  },
  {
   "cell_type": "code",
   "execution_count": 7,
   "metadata": {},
   "outputs": [
    {
     "data": {
      "text/plain": [
       "'10001005Bacterial sepsis'"
      ]
     },
     "execution_count": 7,
     "metadata": {},
     "output_type": "execute_result"
    }
   ],
   "source": [
    "LL[0]"
   ]
  },
  {
   "cell_type": "code",
   "execution_count": 9,
   "metadata": {},
   "outputs": [
    {
     "name": "stdout",
     "output_type": "stream",
     "text": [
      "57676002\n",
      "['57676002Arthralgia', '57676002Joint pain']\n",
      "95847005\n",
      "['95847005Injury of muscle', '95847005Muscle injury']\n",
      "129565002\n",
      "['129565002Disorder of muscle', '129565002Myopathy']\n",
      "55300003\n",
      "['55300003Cramp', '55300003Muscle Cramp', '55300003Muscle cramp']\n",
      "424196004\n",
      "['424196004Feeling nervous', '424196004Nervousness']\n"
     ]
    }
   ],
   "source": [
    "for c in code:\n",
    "    code_l = [j for j in LL if c in j]\n",
    "    if len(code_l) >1:\n",
    "        print(c)\n",
    "        print(code_l)"
   ]
  },
  {
   "cell_type": "code",
   "execution_count": null,
   "metadata": {},
   "outputs": [],
   "source": [
    "LL = []\n",
    "for num in range(10):\n",
    "    path = '../data/AskAPatient/AskAPatient.fold-'+str(num)+'.train.txt'\n",
    "    with open(path,'r',encoding='ISO-8859-1') as f:\n",
    "        L = f.readlines()\n",
    "    \n",
    "    for item in L:\n",
    "        i = item.strip().split('\\t')\n",
    "        LL.append(i[0]+i[1])\n",
    "        LL.append(i[0])\n",
    "        if len(i)>3:\n",
    "            print(i)\n",
    "\n",
    "    path = '../data/AskAPatient/AskAPatient.fold-'+str(num)+'.validation.txt'\n",
    "    with open(path,'r',encoding='ISO-8859-1') as f:\n",
    "        L = f.readlines()\n",
    "    \n",
    "    for item in L:\n",
    "        i = item.strip().split('\\t')\n",
    "        LL.append(i[0]+i[1])\n",
    "        LL.append(i[0])\n",
    "        if len(i)>3:\n",
    "            print(i)\n",
    "\n",
    "    path = '../data/AskAPatient/AskAPatient.fold-'+str(num)+'.test.txt'\n",
    "    with open(path,'r',encoding='ISO-8859-1') as f:\n",
    "        L = f.readlines()\n",
    "    \n",
    "    for item in L:\n",
    "        i = item.strip().split('\\t')\n",
    "        LL.append(i[0]+i[1])\n",
    "        LL.append(i[0])\n",
    "        if len(i)>3:\n",
    "            print(i)\n",
    "LL = list(set(LL))\n",
    "LL.sort()"
   ]
  },
  {
   "cell_type": "code",
   "execution_count": 9,
   "metadata": {},
   "outputs": [
    {
     "data": {
      "text/plain": [
       "['57676002', '57676002Arthralgia', '57676002Joint pain']"
      ]
     },
     "execution_count": 9,
     "metadata": {},
     "output_type": "execute_result"
    }
   ],
   "source": [
    "[i for i in LL if '57676002' in i]"
   ]
  },
  {
   "cell_type": "code",
   "execution_count": null,
   "metadata": {},
   "outputs": [
    {
     "name": "stdout",
     "output_type": "stream",
     "text": [
      "1034\n"
     ]
    }
   ],
   "source": [
    "Ask_name2std = {}\n",
    "Ask_name2std['Cramp'] = 'Muscle Cramp'\n",
    "Ask_name2std['Muscle cramp'] = 'Muscle Cramp'\n",
    "Ask_name2std['Nervousness'] = 'Feeling nervous'\n",
    "Ask_name2std['Muscle injury'] = 'Injury of muscle'\n",
    "Ask_name2std['Arthralgia'] = 'Joint pain'\n",
    "Ask_name2std['Myopathy'] = 'Disorder of muscle'\n",
    "\n",
    "\n",
    "with open('../data/AskAPatient/AskPatiet_term2std.json','w',encoding='utf-8') as f:\n",
    "    json.dump(Ask_name2std,f,ensure_ascii=False,indent=4)\n",
    "\n",
    "LL = []\n",
    "for num in range(10):\n",
    "    path = '../data/AskAPatient/AskAPatient.fold-'+str(num)+'.train.txt'\n",
    "    with open(path,'r',encoding='ISO-8859-1') as f:\n",
    "        L = f.readlines()\n",
    "    \n",
    "    for item in L:\n",
    "        i = item.strip().split('\\t')\n",
    "        if i[1] in Ask_name2std:\n",
    "            LL.append(Ask_name2std[i[1]])\n",
    "        else:\n",
    "            LL.append(i[1])\n",
    "        if len(i)>3:\n",
    "            print(i)\n",
    "\n",
    "    path = '../data/AskAPatient/AskAPatient.fold-'+str(num)+'.validation.txt'\n",
    "    with open(path,'r',encoding='ISO-8859-1') as f:\n",
    "        L = f.readlines()\n",
    "    \n",
    "    for item in L:\n",
    "        i = item.strip().split('\\t')\n",
    "        if i[1] in Ask_name2std:\n",
    "            LL.append(Ask_name2std[i[1]])\n",
    "        else:\n",
    "            LL.append(i[1])\n",
    "        if len(i)>3:\n",
    "            print(i)\n",
    "\n",
    "    path = '../data/AskAPatient/AskAPatient.fold-'+str(num)+'.test.txt'\n",
    "    with open(path,'r',encoding='ISO-8859-1') as f:\n",
    "        L = f.readlines()\n",
    "    \n",
    "    for item in L:\n",
    "        i = item.strip().split('\\t')\n",
    "        if i[1] in Ask_name2std:\n",
    "            LL.append(Ask_name2std[i[1]])\n",
    "        else:\n",
    "            LL.append(i[1])\n",
    "        if len(i)>3:\n",
    "            print(i)\n",
    "AskAPatient_normalized_set = list(set(LL))\n",
    "AskAPatient_normalized_set.sort()\n",
    "print(len(AskAPatient_normalized_set))\n",
    "with open(\"../data/AskAPatient/AskAPatient_normalized_set.json\",'w',encoding='utf-8') as f:\n",
    "    json.dump(AskAPatient_normalized_set,f,ensure_ascii=False,indent=4)"
   ]
  },
  {
   "cell_type": "code",
   "execution_count": 5,
   "metadata": {},
   "outputs": [
    {
     "data": {
      "text/plain": [
       "1040"
      ]
     },
     "execution_count": 5,
     "metadata": {},
     "output_type": "execute_result"
    }
   ],
   "source": [
    "len(AskAPatient_normalized_set)"
   ]
  }
 ],
 "metadata": {
  "kernelspec": {
   "display_name": "Python 3",
   "language": "python",
   "name": "python3"
  },
  "language_info": {
   "codemirror_mode": {
    "name": "ipython",
    "version": 3
   },
   "file_extension": ".py",
   "mimetype": "text/x-python",
   "name": "python",
   "nbconvert_exporter": "python",
   "pygments_lexer": "ipython3",
   "version": "3.9.16"
  },
  "orig_nbformat": 4
 },
 "nbformat": 4,
 "nbformat_minor": 2
}
