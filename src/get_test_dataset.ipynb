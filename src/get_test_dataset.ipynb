{
 "cells": [
  {
   "cell_type": "code",
   "execution_count": 2,
   "metadata": {},
   "outputs": [
    {
     "name": "stderr",
     "output_type": "stream",
     "text": [
      "/Users/yongqifan/miniconda3/envs/llm/lib/python3.11/site-packages/tqdm/auto.py:21: TqdmWarning: IProgress not found. Please update jupyter and ipywidgets. See https://ipywidgets.readthedocs.io/en/stable/user_install.html\n",
      "  from .autonotebook import tqdm as notebook_tqdm\n"
     ]
    }
   ],
   "source": [
    "import os\n",
    "from tqdm.auto import tqdm\n",
    "import json\n",
    "import math\n",
    "import pandas as pd\n",
    "import random"
   ]
  },
  {
   "cell_type": "code",
   "execution_count": 2,
   "metadata": {},
   "outputs": [
    {
     "ename": "FileNotFoundError",
     "evalue": "[Errno 2] No such file or directory: '../data/SMM4H-17/smm4h_code2ptcode.json'",
     "output_type": "error",
     "traceback": [
      "\u001b[0;31m---------------------------------------------------------------------------\u001b[0m",
      "\u001b[0;31mFileNotFoundError\u001b[0m                         Traceback (most recent call last)",
      "Cell \u001b[0;32mIn[2], line 6\u001b[0m\n\u001b[1;32m      3\u001b[0m \u001b[38;5;28;01mwith\u001b[39;00m \u001b[38;5;28mopen\u001b[39m(path,\u001b[38;5;124m'\u001b[39m\u001b[38;5;124mr\u001b[39m\u001b[38;5;124m'\u001b[39m,encoding\u001b[38;5;241m=\u001b[39m\u001b[38;5;124m'\u001b[39m\u001b[38;5;124mutf-8\u001b[39m\u001b[38;5;124m'\u001b[39m) \u001b[38;5;28;01mas\u001b[39;00m f:\n\u001b[1;32m      4\u001b[0m     L \u001b[38;5;241m=\u001b[39m f\u001b[38;5;241m.\u001b[39mreadlines()\n\u001b[0;32m----> 6\u001b[0m \u001b[38;5;28;01mwith\u001b[39;00m \u001b[38;5;28;43mopen\u001b[39;49m\u001b[43m(\u001b[49m\u001b[38;5;124;43m'\u001b[39;49m\u001b[38;5;124;43m../data/SMM4H-17/smm4h_code2ptcode.json\u001b[39;49m\u001b[38;5;124;43m'\u001b[39;49m\u001b[43m,\u001b[49m\u001b[38;5;124;43m'\u001b[39;49m\u001b[38;5;124;43mr\u001b[39;49m\u001b[38;5;124;43m'\u001b[39;49m\u001b[43m,\u001b[49m\u001b[43mencoding\u001b[49m\u001b[38;5;241;43m=\u001b[39;49m\u001b[38;5;124;43m'\u001b[39;49m\u001b[38;5;124;43mutf-8\u001b[39;49m\u001b[38;5;124;43m'\u001b[39;49m\u001b[43m)\u001b[49m \u001b[38;5;28;01mas\u001b[39;00m f:\n\u001b[1;32m      7\u001b[0m     meddra_code_map \u001b[38;5;241m=\u001b[39m json\u001b[38;5;241m.\u001b[39mload(f)\n\u001b[1;32m      9\u001b[0m \u001b[38;5;28;01mwith\u001b[39;00m \u001b[38;5;28mopen\u001b[39m(\u001b[38;5;124m'\u001b[39m\u001b[38;5;124m../data/SMM4H-17/smm4h_code2term.json\u001b[39m\u001b[38;5;124m'\u001b[39m,\u001b[38;5;124m'\u001b[39m\u001b[38;5;124mr\u001b[39m\u001b[38;5;124m'\u001b[39m,encoding\u001b[38;5;241m=\u001b[39m\u001b[38;5;124m'\u001b[39m\u001b[38;5;124mutf-8\u001b[39m\u001b[38;5;124m'\u001b[39m) \u001b[38;5;28;01mas\u001b[39;00m f:\n",
      "File \u001b[0;32m~/miniconda3/envs/llm/lib/python3.11/site-packages/IPython/core/interactiveshell.py:308\u001b[0m, in \u001b[0;36m_modified_open\u001b[0;34m(file, *args, **kwargs)\u001b[0m\n\u001b[1;32m    301\u001b[0m \u001b[38;5;28;01mif\u001b[39;00m file \u001b[38;5;129;01min\u001b[39;00m {\u001b[38;5;241m0\u001b[39m, \u001b[38;5;241m1\u001b[39m, \u001b[38;5;241m2\u001b[39m}:\n\u001b[1;32m    302\u001b[0m     \u001b[38;5;28;01mraise\u001b[39;00m \u001b[38;5;167;01mValueError\u001b[39;00m(\n\u001b[1;32m    303\u001b[0m         \u001b[38;5;124mf\u001b[39m\u001b[38;5;124m\"\u001b[39m\u001b[38;5;124mIPython won\u001b[39m\u001b[38;5;124m'\u001b[39m\u001b[38;5;124mt let you open fd=\u001b[39m\u001b[38;5;132;01m{\u001b[39;00mfile\u001b[38;5;132;01m}\u001b[39;00m\u001b[38;5;124m by default \u001b[39m\u001b[38;5;124m\"\u001b[39m\n\u001b[1;32m    304\u001b[0m         \u001b[38;5;124m\"\u001b[39m\u001b[38;5;124mas it is likely to crash IPython. If you know what you are doing, \u001b[39m\u001b[38;5;124m\"\u001b[39m\n\u001b[1;32m    305\u001b[0m         \u001b[38;5;124m\"\u001b[39m\u001b[38;5;124myou can use builtins\u001b[39m\u001b[38;5;124m'\u001b[39m\u001b[38;5;124m open.\u001b[39m\u001b[38;5;124m\"\u001b[39m\n\u001b[1;32m    306\u001b[0m     )\n\u001b[0;32m--> 308\u001b[0m \u001b[38;5;28;01mreturn\u001b[39;00m \u001b[43mio_open\u001b[49m\u001b[43m(\u001b[49m\u001b[43mfile\u001b[49m\u001b[43m,\u001b[49m\u001b[43m \u001b[49m\u001b[38;5;241;43m*\u001b[39;49m\u001b[43margs\u001b[49m\u001b[43m,\u001b[49m\u001b[43m \u001b[49m\u001b[38;5;241;43m*\u001b[39;49m\u001b[38;5;241;43m*\u001b[39;49m\u001b[43mkwargs\u001b[49m\u001b[43m)\u001b[49m\n",
      "\u001b[0;31mFileNotFoundError\u001b[0m: [Errno 2] No such file or directory: '../data/SMM4H-17/smm4h_code2ptcode.json'"
     ]
    }
   ],
   "source": [
    "smm4h_test = []\n",
    "path = '../data/SMM4H-17/task_3_normalization_evaluation.txt'\n",
    "with open(path,'r',encoding='utf-8') as f:\n",
    "    L = f.readlines()\n",
    "\n",
    "with open('../data/SMM4H-17/smm4h_code2ptcode.json','r',encoding='utf-8') as f:\n",
    "    meddra_code_map = json.load(f)\n",
    "\n",
    "with open('../data/SMM4H-17/smm4h_code2term.json','r',encoding='utf-8') as f:\n",
    "    meddra_code2name = json.load(f) \n",
    "\n",
    "for item in L:\n",
    "    i = item.strip().split('\\t')\n",
    "    if i[-1] in meddra_code_map:\n",
    "        tmp = {'text':i[-2],'normalized_result':meddra_code2name[meddra_code_map[i[-1]]]}\n",
    "    else:\n",
    "        tmp = {'text':i[-2],'normalized_result':meddra_code2name[i[-1]]}\n",
    "    smm4h_test.append(tmp)"
   ]
  },
  {
   "cell_type": "code",
   "execution_count": null,
   "metadata": {},
   "outputs": [],
   "source": [
    "smm4h_train = []\n",
    "   \n",
    "for num in range(4):\n",
    "    with open('../data/SMM4H-17/task_3_normalization_training'+str(num+1)+'.txt') as f:\n",
    "        L = f.readlines()\n",
    "        for item in L:\n",
    "            i = item.strip().split('\\t')\n",
    "            if i[-1] in meddra_code_map:\n",
    "                tmp = {'text':i[-2],'normalized_result':meddra_code2name[meddra_code_map[i[-1]]]}\n",
    "            else:\n",
    "                tmp = {'text':i[-2],'normalized_result':meddra_code2name[i[-1]]}\n",
    "            if tmp not in smm4h_train:\n",
    "                smm4h_train.append(tmp)"
   ]
  },
  {
   "cell_type": "code",
   "execution_count": 3,
   "metadata": {},
   "outputs": [],
   "source": [
    "with open('../data/AskAPatient/AskPatiet_term2std.json','r',encoding='utf-8') as f:\n",
    "    Ask_name2std = json.load(f)\n",
    "\n",
    "# Ask_test = []\n",
    "# for num in range(10):\n",
    "#     path = '../data/AskAPatient/AskAPatient.fold-'+str(num)+'.test.txt'\n",
    "#     with open(path,'r',encoding='ISO-8859-1') as f:\n",
    "#         L = f.readlines()\n",
    "    \n",
    "#     for item in L:\n",
    "#         i = item.strip().split('\\t')\n",
    "#         if i[-2] in Ask_name2std:\n",
    "#             tmp = {'text':i[-1],'normalized_result':Ask_name2std[i[-2]]}\n",
    "#         else:\n",
    "#             tmp = {'text':i[-1],'normalized_result':i[-2]}\n",
    "#         Ask_test.append(tmp)"
   ]
  },
  {
   "cell_type": "code",
   "execution_count": 4,
   "metadata": {},
   "outputs": [],
   "source": [
    "Ask_train = [[] for _ in range(10)]\n",
    "for num in range(10):\n",
    "    path = '../data/AskAPatient/AskAPatient.fold-'+str(num)+'.train.txt'\n",
    "    with open(path,'r',encoding='ISO-8859-1') as f:\n",
    "        L = f.readlines()\n",
    "    \n",
    "    for item in L:\n",
    "        i = item.strip().split('\\t')\n",
    "        if i[-2] in Ask_name2std:\n",
    "            tmp = {'text':i[-1],'normalized_result':Ask_name2std[i[-2]]}\n",
    "        else:\n",
    "            tmp = {'text':i[-1],'normalized_result':i[-2]}\n",
    "        \n",
    "        if tmp not in Ask_train[num]:\n",
    "            Ask_train[num].append(tmp)"
   ]
  },
  {
   "cell_type": "code",
   "execution_count": 5,
   "metadata": {},
   "outputs": [],
   "source": [
    "Ask_test = [[] for _ in range(10)]\n",
    "for num in range(10):\n",
    "    path = '../data/AskAPatient/AskAPatient.fold-'+str(num)+'.test.txt'\n",
    "    with open(path,'r',encoding='ISO-8859-1') as f:\n",
    "        L = f.readlines()\n",
    "    \n",
    "    for item in L:\n",
    "        i = item.strip().split('\\t')\n",
    "        if i[-2] in Ask_name2std:\n",
    "            tmp = {'text':i[-1],'normalized_result':Ask_name2std[i[-2]]}\n",
    "        else:\n",
    "            tmp = {'text':i[-1],'normalized_result':i[-2]}\n",
    "        \n",
    "        if tmp not in Ask_test[num]:\n",
    "            Ask_test[num].append(tmp)"
   ]
  },
  {
   "cell_type": "code",
   "execution_count": null,
   "metadata": {},
   "outputs": [],
   "source": [
    "# TwADR_test = []\n",
    "# for num in range(10):\n",
    "#     path = '../data/TwADR-L/TwADR-L.fold-'+str(num)+'.test.txt'\n",
    "#     with open(path,'r',encoding='ISO-8859-1') as f:\n",
    "#         L = f.readlines()\n",
    "    \n",
    "#     for item in L:\n",
    "#         i = item.strip().split('\\t')\n",
    "#         tmp = {'text':i[-1],'normalized_result':i[-2]}\n",
    "#         TwADR_test.append(tmp)"
   ]
  },
  {
   "cell_type": "code",
   "execution_count": null,
   "metadata": {},
   "outputs": [],
   "source": [
    "TwADR_train = [[] for _ in range(10)]\n",
    "for num in range(10):\n",
    "    path = '../data/TwADR-L/TwADR-L.fold-'+str(num)+'.train.txt'\n",
    "    with open(path,'r',encoding='ISO-8859-1') as f:\n",
    "        L = f.readlines()\n",
    "    \n",
    "    for item in L:\n",
    "        i = item.strip().split('\\t')\n",
    "        tmp = {'text':i[-1],'normalized_result':i[-2]}\n",
    "        \n",
    "        if tmp not in TwADR_train[num]:\n",
    "            TwADR_train[num].append(tmp)"
   ]
  },
  {
   "cell_type": "code",
   "execution_count": null,
   "metadata": {},
   "outputs": [],
   "source": [
    "TwADR_test = [[] for _ in range(10)]\n",
    "for num in range(10):\n",
    "    path = '../data/TwADR-L/TwADR-L.fold-'+str(num)+'.test.txt'\n",
    "    with open(path,'r',encoding='ISO-8859-1') as f:\n",
    "        L = f.readlines()\n",
    "    \n",
    "    for item in L:\n",
    "        i = item.strip().split('\\t')\n",
    "        tmp = {'text':i[-1],'normalized_result':i[-2]}\n",
    "        \n",
    "        if tmp not in TwADR_test[num]:\n",
    "            TwADR_test[num].append(tmp)"
   ]
  }
 ],
 "metadata": {
  "kernelspec": {
   "display_name": "llm",
   "language": "python",
   "name": "python3"
  },
  "language_info": {
   "codemirror_mode": {
    "name": "ipython",
    "version": 3
   },
   "file_extension": ".py",
   "mimetype": "text/x-python",
   "name": "python",
   "nbconvert_exporter": "python",
   "pygments_lexer": "ipython3",
   "version": "3.11.5"
  },
  "orig_nbformat": 4
 },
 "nbformat": 4,
 "nbformat_minor": 2
}
